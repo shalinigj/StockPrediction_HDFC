{
  "nbformat": 4,
  "nbformat_minor": 0,
  "metadata": {
    "colab": {
      "name": "HDFCBank_StockPrediction.ipynb",
      "provenance": []
    },
    "kernelspec": {
      "name": "python3",
      "display_name": "Python 3"
    },
    "language_info": {
      "name": "python"
    }
  },
  "cells": [
    {
      "cell_type": "code",
      "metadata": {
        "id": "WNPcC7sLyNbN"
      },
      "source": [
        "import numpy as np\n",
        "import pandas as pd\n",
        "import matplotlib.pyplot as plt\n",
        "from sklearn.preprocessing import MinMaxScaler\n",
        "\n",
        "from keras.models import Sequential, load_model\n",
        "from keras.layers import LSTM, Dense, Dropout\n",
        "import os"
      ],
      "execution_count": null,
      "outputs": []
    },
    {
      "cell_type": "code",
      "metadata": {
        "colab": {
          "base_uri": "https://localhost:8080/"
        },
        "id": "bDtR8xRLyeH3",
        "outputId": "afda49dc-f4d5-4000-a860-f0f9733b2db0"
      },
      "source": [
        "from google.colab import drive\n",
        "drive.mount('/content/drive')"
      ],
      "execution_count": null,
      "outputs": [
        {
          "output_type": "stream",
          "name": "stdout",
          "text": [
            "Mounted at /content/drive\n"
          ]
        }
      ]
    },
    {
      "cell_type": "code",
      "metadata": {
        "id": "e8nLKTfKyyho"
      },
      "source": [
        " ds = pd.read_csv(\"/content/drive/My Drive/Colab Notebooks/MLProjects/HDBK Historical Data.csv\")"
      ],
      "execution_count": null,
      "outputs": []
    },
    {
      "cell_type": "code",
      "metadata": {
        "colab": {
          "base_uri": "https://localhost:8080/",
          "height": 206
        },
        "id": "cLVoXzRY8WTH",
        "outputId": "016c13a5-406b-43f2-a184-776849e4d4f1"
      },
      "source": [
        "ds.head()"
      ],
      "execution_count": null,
      "outputs": [
        {
          "output_type": "execute_result",
          "data": {
            "text/html": [
              "<div>\n",
              "<style scoped>\n",
              "    .dataframe tbody tr th:only-of-type {\n",
              "        vertical-align: middle;\n",
              "    }\n",
              "\n",
              "    .dataframe tbody tr th {\n",
              "        vertical-align: top;\n",
              "    }\n",
              "\n",
              "    .dataframe thead th {\n",
              "        text-align: right;\n",
              "    }\n",
              "</style>\n",
              "<table border=\"1\" class=\"dataframe\">\n",
              "  <thead>\n",
              "    <tr style=\"text-align: right;\">\n",
              "      <th></th>\n",
              "      <th>Date</th>\n",
              "      <th>Price</th>\n",
              "      <th>Open</th>\n",
              "      <th>High</th>\n",
              "      <th>Low</th>\n",
              "      <th>Vol.</th>\n",
              "      <th>Change %</th>\n",
              "    </tr>\n",
              "  </thead>\n",
              "  <tbody>\n",
              "    <tr>\n",
              "      <th>0</th>\n",
              "      <td>2-Nov-15</td>\n",
              "      <td>540.35</td>\n",
              "      <td>546.31</td>\n",
              "      <td>546.73</td>\n",
              "      <td>537.05</td>\n",
              "      <td>1.58M</td>\n",
              "      <td>-1.50%</td>\n",
              "    </tr>\n",
              "    <tr>\n",
              "      <th>1</th>\n",
              "      <td>3-Nov-15</td>\n",
              "      <td>541.25</td>\n",
              "      <td>544.26</td>\n",
              "      <td>544.79</td>\n",
              "      <td>538.4</td>\n",
              "      <td>1.27M</td>\n",
              "      <td>0.17%</td>\n",
              "    </tr>\n",
              "    <tr>\n",
              "      <th>2</th>\n",
              "      <td>4-Nov-15</td>\n",
              "      <td>539.65</td>\n",
              "      <td>543.81</td>\n",
              "      <td>547.83</td>\n",
              "      <td>537.93</td>\n",
              "      <td>1.35M</td>\n",
              "      <td>-0.30%</td>\n",
              "    </tr>\n",
              "    <tr>\n",
              "      <th>3</th>\n",
              "      <td>5-Nov-15</td>\n",
              "      <td>538.73</td>\n",
              "      <td>538.05</td>\n",
              "      <td>540.3</td>\n",
              "      <td>533.56</td>\n",
              "      <td>1.80M</td>\n",
              "      <td>-0.17%</td>\n",
              "    </tr>\n",
              "    <tr>\n",
              "      <th>4</th>\n",
              "      <td>6-Nov-15</td>\n",
              "      <td>539.25</td>\n",
              "      <td>539.15</td>\n",
              "      <td>543.29</td>\n",
              "      <td>536.43</td>\n",
              "      <td>2.94M</td>\n",
              "      <td>0.10%</td>\n",
              "    </tr>\n",
              "  </tbody>\n",
              "</table>\n",
              "</div>"
            ],
            "text/plain": [
              "       Date   Price    Open    High     Low   Vol. Change %\n",
              "0  2-Nov-15  540.35  546.31  546.73  537.05  1.58M   -1.50%\n",
              "1  3-Nov-15  541.25  544.26  544.79   538.4  1.27M    0.17%\n",
              "2  4-Nov-15  539.65  543.81  547.83  537.93  1.35M   -0.30%\n",
              "3  5-Nov-15  538.73  538.05   540.3  533.56  1.80M   -0.17%\n",
              "4  6-Nov-15  539.25  539.15  543.29  536.43  2.94M    0.10%"
            ]
          },
          "metadata": {},
          "execution_count": 5
        }
      ]
    },
    {
      "cell_type": "code",
      "metadata": {
        "colab": {
          "base_uri": "https://localhost:8080/"
        },
        "id": "vsI4E_87Fq52",
        "outputId": "6d150337-fa35-4520-a832-993c8c0cd506"
      },
      "source": [
        "ds.shape"
      ],
      "execution_count": null,
      "outputs": [
        {
          "output_type": "execute_result",
          "data": {
            "text/plain": [
              "(1502, 7)"
            ]
          },
          "metadata": {},
          "execution_count": 8
        }
      ]
    },
    {
      "cell_type": "code",
      "metadata": {
        "colab": {
          "base_uri": "https://localhost:8080/"
        },
        "id": "9ofgpVoEGA5U",
        "outputId": "09f7cafa-c6d0-4b52-ebe1-d7109f9e11e1"
      },
      "source": [
        "ds.info()"
      ],
      "execution_count": null,
      "outputs": [
        {
          "output_type": "stream",
          "name": "stdout",
          "text": [
            "<class 'pandas.core.frame.DataFrame'>\n",
            "RangeIndex: 1502 entries, 0 to 1501\n",
            "Data columns (total 7 columns):\n",
            " #   Column    Non-Null Count  Dtype \n",
            "---  ------    --------------  ----- \n",
            " 0   Date      1502 non-null   object\n",
            " 1   Price     1502 non-null   object\n",
            " 2   Open      1502 non-null   object\n",
            " 3   High      1502 non-null   object\n",
            " 4   Low       1502 non-null   object\n",
            " 5   Vol.      1502 non-null   object\n",
            " 6   Change %  1502 non-null   object\n",
            "dtypes: object(7)\n",
            "memory usage: 82.3+ KB\n"
          ]
        }
      ]
    },
    {
      "cell_type": "code",
      "metadata": {
        "id": "PbtPc-dUGIP0"
      },
      "source": [
        "ds = ds['Open'].values"
      ],
      "execution_count": null,
      "outputs": []
    },
    {
      "cell_type": "code",
      "metadata": {
        "colab": {
          "base_uri": "https://localhost:8080/"
        },
        "id": "VbDliAKLGPN2",
        "outputId": "552c66a6-cfe6-46d6-f195-3b962c265368"
      },
      "source": [
        "ds"
      ],
      "execution_count": null,
      "outputs": [
        {
          "output_type": "execute_result",
          "data": {
            "text/plain": [
              "array(['546.31', '544.26', '543.81', ..., '1,514.80', '1,500.00',\n",
              "       '1,494.80'], dtype=object)"
            ]
          },
          "metadata": {},
          "execution_count": 13
        }
      ]
    },
    {
      "cell_type": "code",
      "metadata": {
        "colab": {
          "base_uri": "https://localhost:8080/"
        },
        "id": "LrY6UTCTGQ68",
        "outputId": "835d1eb1-3526-47f9-9c86-c16a7b11dbd1"
      },
      "source": [
        "ds = ds.reshape(-1, 1)\n",
        "print(ds.shape)"
      ],
      "execution_count": null,
      "outputs": [
        {
          "output_type": "stream",
          "name": "stdout",
          "text": [
            "(1502, 1)\n"
          ]
        }
      ]
    },
    {
      "cell_type": "code",
      "metadata": {
        "colab": {
          "base_uri": "https://localhost:8080/"
        },
        "id": "0JnRGsmjG_hk",
        "outputId": "291f7ba7-feee-4f36-f2b8-a8218fe2bbc6"
      },
      "source": [
        "train = np.array(ds[:int(ds.shape[0]*0.8)])\n",
        "test = np.array(ds[int(ds.shape[0]*0.8)-50:])\n",
        "print(train.shape)\n",
        "print(test.shape)"
      ],
      "execution_count": null,
      "outputs": [
        {
          "output_type": "stream",
          "name": "stdout",
          "text": [
            "(1201, 1)\n",
            "(351, 1)\n"
          ]
        }
      ]
    },
    {
      "cell_type": "code",
      "metadata": {
        "id": "B_4xayCCHPEG"
      },
      "source": [
        "scaler = MinMaxScaler(feature_range=(0,1))\n",
        "train = scaler.fit_transform(train)\n",
        "train[:5]"
      ],
      "execution_count": null,
      "outputs": []
    }
  ]
}